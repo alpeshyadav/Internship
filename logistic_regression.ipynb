{
  "nbformat": 4,
  "nbformat_minor": 0,
  "metadata": {
    "colab": {
      "name": "logistic_regression.ipynb",
      "provenance": [],
      "authorship_tag": "ABX9TyMzyjHpoAPeUzM3PwiSusdR",
      "include_colab_link": true
    },
    "kernelspec": {
      "name": "python3",
      "display_name": "Python 3"
    }
  },
  "cells": [
    {
      "cell_type": "markdown",
      "metadata": {
        "id": "view-in-github",
        "colab_type": "text"
      },
      "source": [
        "<a href=\"https://colab.research.google.com/github/alpeshyadav/Internship/blob/master/logistic_regression.ipynb\" target=\"_parent\"><img src=\"https://colab.research.google.com/assets/colab-badge.svg\" alt=\"Open In Colab\"/></a>"
      ]
    },
    {
      "cell_type": "code",
      "metadata": {
        "id": "4YgdJeMLYsTs",
        "colab_type": "code",
        "colab": {}
      },
      "source": [
        "import numpy as np\n",
        "import pandas as pd\n",
        "import pickle\n",
        "from sklearn.linear_model import LogisticRegression"
      ],
      "execution_count": null,
      "outputs": []
    },
    {
      "cell_type": "code",
      "metadata": {
        "id": "0TyX3lNuwpJ4",
        "colab_type": "code",
        "colab": {}
      },
      "source": [
        "def logistic_regression(X, y, seed=None):\n",
        "  with open('./sample_data/ouputfile', 'wb') as f:\n",
        "    pickle.dump(LogisticRegression(random_state = seed).fit(X, y), f)"
      ],
      "execution_count": null,
      "outputs": []
    },
    {
      "cell_type": "code",
      "metadata": {
        "id": "SRQ25zauywrK",
        "colab_type": "code",
        "colab": {}
      },
      "source": [
        "def predict(data):\n",
        "  with open('./sample_data/ouputfile', 'rb') as f:\n",
        "    logistic_regression = pickle.load(f)\n",
        "  return logistic_regression.predict(data)"
      ],
      "execution_count": null,
      "outputs": []
    },
    {
      "cell_type": "code",
      "metadata": {
        "id": "MdX_jfSP2q71",
        "colab_type": "code",
        "colab": {}
      },
      "source": [
        "def accuracy(X, y):\n",
        "  with open('./sample_data/ouputfile', 'rb') as f:\n",
        "    logistic_regression = pickle.load(f)\n",
        "  return logistic_regression.score(X, y)"
      ],
      "execution_count": null,
      "outputs": []
    },
    {
      "cell_type": "code",
      "metadata": {
        "id": "ve3SWWmAwsBo",
        "colab_type": "code",
        "colab": {}
      },
      "source": [
        "dataset = pd.read_csv('./sample_data/datasets_internet_data.csv')"
      ],
      "execution_count": null,
      "outputs": []
    },
    {
      "cell_type": "code",
      "metadata": {
        "id": "HPYubyd8CqAn",
        "colab_type": "code",
        "colab": {
          "base_uri": "https://localhost:8080/",
          "height": 379
        },
        "outputId": "548f4e33-fa70-442c-c053-5d8144287845"
      },
      "source": [
        "dataset.head(10)"
      ],
      "execution_count": null,
      "outputs": [
        {
          "output_type": "execute_result",
          "data": {
            "text/html": [
              "<div>\n",
              "<style scoped>\n",
              "    .dataframe tbody tr th:only-of-type {\n",
              "        vertical-align: middle;\n",
              "    }\n",
              "\n",
              "    .dataframe tbody tr th {\n",
              "        vertical-align: top;\n",
              "    }\n",
              "\n",
              "    .dataframe thead th {\n",
              "        text-align: right;\n",
              "    }\n",
              "</style>\n",
              "<table border=\"1\" class=\"dataframe\">\n",
              "  <thead>\n",
              "    <tr style=\"text-align: right;\">\n",
              "      <th></th>\n",
              "      <th>state</th>\n",
              "      <th>account_length</th>\n",
              "      <th>area_code</th>\n",
              "      <th>phone_number</th>\n",
              "      <th>international_plan</th>\n",
              "      <th>voice_mail_plan</th>\n",
              "      <th>number_vmail_messages</th>\n",
              "      <th>total_day_minutes</th>\n",
              "      <th>total_day_calls</th>\n",
              "      <th>total_day_charge</th>\n",
              "      <th>total_eve_minutes</th>\n",
              "      <th>total_eve_calls</th>\n",
              "      <th>total_eve_charge</th>\n",
              "      <th>total_night_minutes</th>\n",
              "      <th>total_night_calls</th>\n",
              "      <th>total_night_charge</th>\n",
              "      <th>total_intl_minutes</th>\n",
              "      <th>total_intl_calls</th>\n",
              "      <th>total_intl_charge</th>\n",
              "      <th>number_customer_service_calls</th>\n",
              "      <th>class</th>\n",
              "    </tr>\n",
              "  </thead>\n",
              "  <tbody>\n",
              "    <tr>\n",
              "      <th>0</th>\n",
              "      <td>16</td>\n",
              "      <td>128</td>\n",
              "      <td>415</td>\n",
              "      <td>2845</td>\n",
              "      <td>0</td>\n",
              "      <td>1</td>\n",
              "      <td>25</td>\n",
              "      <td>265.1</td>\n",
              "      <td>110</td>\n",
              "      <td>45.07</td>\n",
              "      <td>197.4</td>\n",
              "      <td>99</td>\n",
              "      <td>16.78</td>\n",
              "      <td>244.7</td>\n",
              "      <td>91</td>\n",
              "      <td>11.01</td>\n",
              "      <td>10.0</td>\n",
              "      <td>3</td>\n",
              "      <td>2.70</td>\n",
              "      <td>1</td>\n",
              "      <td>0</td>\n",
              "    </tr>\n",
              "    <tr>\n",
              "      <th>1</th>\n",
              "      <td>35</td>\n",
              "      <td>107</td>\n",
              "      <td>415</td>\n",
              "      <td>2301</td>\n",
              "      <td>0</td>\n",
              "      <td>1</td>\n",
              "      <td>26</td>\n",
              "      <td>161.6</td>\n",
              "      <td>123</td>\n",
              "      <td>27.47</td>\n",
              "      <td>195.5</td>\n",
              "      <td>103</td>\n",
              "      <td>16.62</td>\n",
              "      <td>254.4</td>\n",
              "      <td>103</td>\n",
              "      <td>11.45</td>\n",
              "      <td>13.7</td>\n",
              "      <td>3</td>\n",
              "      <td>3.70</td>\n",
              "      <td>1</td>\n",
              "      <td>0</td>\n",
              "    </tr>\n",
              "    <tr>\n",
              "      <th>2</th>\n",
              "      <td>31</td>\n",
              "      <td>137</td>\n",
              "      <td>415</td>\n",
              "      <td>1616</td>\n",
              "      <td>0</td>\n",
              "      <td>0</td>\n",
              "      <td>0</td>\n",
              "      <td>243.4</td>\n",
              "      <td>114</td>\n",
              "      <td>41.38</td>\n",
              "      <td>121.2</td>\n",
              "      <td>110</td>\n",
              "      <td>10.30</td>\n",
              "      <td>162.6</td>\n",
              "      <td>104</td>\n",
              "      <td>7.32</td>\n",
              "      <td>12.2</td>\n",
              "      <td>5</td>\n",
              "      <td>3.29</td>\n",
              "      <td>0</td>\n",
              "      <td>0</td>\n",
              "    </tr>\n",
              "    <tr>\n",
              "      <th>3</th>\n",
              "      <td>35</td>\n",
              "      <td>84</td>\n",
              "      <td>408</td>\n",
              "      <td>2510</td>\n",
              "      <td>1</td>\n",
              "      <td>0</td>\n",
              "      <td>0</td>\n",
              "      <td>299.4</td>\n",
              "      <td>71</td>\n",
              "      <td>50.90</td>\n",
              "      <td>61.9</td>\n",
              "      <td>88</td>\n",
              "      <td>5.26</td>\n",
              "      <td>196.9</td>\n",
              "      <td>89</td>\n",
              "      <td>8.86</td>\n",
              "      <td>6.6</td>\n",
              "      <td>7</td>\n",
              "      <td>1.78</td>\n",
              "      <td>2</td>\n",
              "      <td>0</td>\n",
              "    </tr>\n",
              "    <tr>\n",
              "      <th>4</th>\n",
              "      <td>36</td>\n",
              "      <td>75</td>\n",
              "      <td>415</td>\n",
              "      <td>155</td>\n",
              "      <td>1</td>\n",
              "      <td>0</td>\n",
              "      <td>0</td>\n",
              "      <td>166.7</td>\n",
              "      <td>113</td>\n",
              "      <td>28.34</td>\n",
              "      <td>148.3</td>\n",
              "      <td>122</td>\n",
              "      <td>12.61</td>\n",
              "      <td>186.9</td>\n",
              "      <td>121</td>\n",
              "      <td>8.41</td>\n",
              "      <td>10.1</td>\n",
              "      <td>3</td>\n",
              "      <td>2.73</td>\n",
              "      <td>3</td>\n",
              "      <td>0</td>\n",
              "    </tr>\n",
              "    <tr>\n",
              "      <th>5</th>\n",
              "      <td>1</td>\n",
              "      <td>118</td>\n",
              "      <td>510</td>\n",
              "      <td>3355</td>\n",
              "      <td>1</td>\n",
              "      <td>0</td>\n",
              "      <td>0</td>\n",
              "      <td>223.4</td>\n",
              "      <td>98</td>\n",
              "      <td>37.98</td>\n",
              "      <td>220.6</td>\n",
              "      <td>101</td>\n",
              "      <td>18.75</td>\n",
              "      <td>203.9</td>\n",
              "      <td>118</td>\n",
              "      <td>9.18</td>\n",
              "      <td>6.3</td>\n",
              "      <td>6</td>\n",
              "      <td>1.70</td>\n",
              "      <td>0</td>\n",
              "      <td>0</td>\n",
              "    </tr>\n",
              "    <tr>\n",
              "      <th>6</th>\n",
              "      <td>19</td>\n",
              "      <td>121</td>\n",
              "      <td>510</td>\n",
              "      <td>1516</td>\n",
              "      <td>0</td>\n",
              "      <td>1</td>\n",
              "      <td>24</td>\n",
              "      <td>218.2</td>\n",
              "      <td>88</td>\n",
              "      <td>37.09</td>\n",
              "      <td>348.5</td>\n",
              "      <td>108</td>\n",
              "      <td>29.62</td>\n",
              "      <td>212.6</td>\n",
              "      <td>118</td>\n",
              "      <td>9.57</td>\n",
              "      <td>7.5</td>\n",
              "      <td>7</td>\n",
              "      <td>2.03</td>\n",
              "      <td>3</td>\n",
              "      <td>0</td>\n",
              "    </tr>\n",
              "    <tr>\n",
              "      <th>7</th>\n",
              "      <td>24</td>\n",
              "      <td>147</td>\n",
              "      <td>415</td>\n",
              "      <td>116</td>\n",
              "      <td>1</td>\n",
              "      <td>0</td>\n",
              "      <td>0</td>\n",
              "      <td>157.0</td>\n",
              "      <td>79</td>\n",
              "      <td>26.69</td>\n",
              "      <td>103.1</td>\n",
              "      <td>94</td>\n",
              "      <td>8.76</td>\n",
              "      <td>211.8</td>\n",
              "      <td>96</td>\n",
              "      <td>9.53</td>\n",
              "      <td>7.1</td>\n",
              "      <td>6</td>\n",
              "      <td>1.92</td>\n",
              "      <td>0</td>\n",
              "      <td>0</td>\n",
              "    </tr>\n",
              "    <tr>\n",
              "      <th>8</th>\n",
              "      <td>18</td>\n",
              "      <td>117</td>\n",
              "      <td>408</td>\n",
              "      <td>425</td>\n",
              "      <td>0</td>\n",
              "      <td>0</td>\n",
              "      <td>0</td>\n",
              "      <td>184.5</td>\n",
              "      <td>97</td>\n",
              "      <td>31.37</td>\n",
              "      <td>351.6</td>\n",
              "      <td>80</td>\n",
              "      <td>29.89</td>\n",
              "      <td>215.8</td>\n",
              "      <td>90</td>\n",
              "      <td>9.71</td>\n",
              "      <td>8.7</td>\n",
              "      <td>4</td>\n",
              "      <td>2.35</td>\n",
              "      <td>1</td>\n",
              "      <td>0</td>\n",
              "    </tr>\n",
              "    <tr>\n",
              "      <th>9</th>\n",
              "      <td>49</td>\n",
              "      <td>141</td>\n",
              "      <td>415</td>\n",
              "      <td>163</td>\n",
              "      <td>1</td>\n",
              "      <td>1</td>\n",
              "      <td>37</td>\n",
              "      <td>258.6</td>\n",
              "      <td>84</td>\n",
              "      <td>43.96</td>\n",
              "      <td>222.0</td>\n",
              "      <td>111</td>\n",
              "      <td>18.87</td>\n",
              "      <td>326.4</td>\n",
              "      <td>97</td>\n",
              "      <td>14.69</td>\n",
              "      <td>11.2</td>\n",
              "      <td>5</td>\n",
              "      <td>3.02</td>\n",
              "      <td>0</td>\n",
              "      <td>0</td>\n",
              "    </tr>\n",
              "  </tbody>\n",
              "</table>\n",
              "</div>"
            ],
            "text/plain": [
              "   state  account_length  ...  number_customer_service_calls  class\n",
              "0     16             128  ...                              1      0\n",
              "1     35             107  ...                              1      0\n",
              "2     31             137  ...                              0      0\n",
              "3     35              84  ...                              2      0\n",
              "4     36              75  ...                              3      0\n",
              "5      1             118  ...                              0      0\n",
              "6     19             121  ...                              3      0\n",
              "7     24             147  ...                              0      0\n",
              "8     18             117  ...                              1      0\n",
              "9     49             141  ...                              0      0\n",
              "\n",
              "[10 rows x 21 columns]"
            ]
          },
          "metadata": {
            "tags": []
          },
          "execution_count": 172
        }
      ]
    },
    {
      "cell_type": "code",
      "metadata": {
        "id": "xPFNkslfEVCQ",
        "colab_type": "code",
        "colab": {}
      },
      "source": [
        "dataset = dataset[['total_day_minutes', 'total_day_charge', 'number_customer_service_calls', 'total_eve_minutes', 'international_plan', 'class']]"
      ],
      "execution_count": null,
      "outputs": []
    },
    {
      "cell_type": "code",
      "metadata": {
        "id": "jptW8T4FOGOV",
        "colab_type": "code",
        "colab": {
          "base_uri": "https://localhost:8080/",
          "height": 204
        },
        "outputId": "65265f79-4063-487b-bb02-e637538cb9f8"
      },
      "source": [
        "dataset.head()"
      ],
      "execution_count": null,
      "outputs": [
        {
          "output_type": "execute_result",
          "data": {
            "text/html": [
              "<div>\n",
              "<style scoped>\n",
              "    .dataframe tbody tr th:only-of-type {\n",
              "        vertical-align: middle;\n",
              "    }\n",
              "\n",
              "    .dataframe tbody tr th {\n",
              "        vertical-align: top;\n",
              "    }\n",
              "\n",
              "    .dataframe thead th {\n",
              "        text-align: right;\n",
              "    }\n",
              "</style>\n",
              "<table border=\"1\" class=\"dataframe\">\n",
              "  <thead>\n",
              "    <tr style=\"text-align: right;\">\n",
              "      <th></th>\n",
              "      <th>total_day_minutes</th>\n",
              "      <th>total_day_charge</th>\n",
              "      <th>number_customer_service_calls</th>\n",
              "      <th>total_eve_minutes</th>\n",
              "      <th>international_plan</th>\n",
              "      <th>class</th>\n",
              "    </tr>\n",
              "  </thead>\n",
              "  <tbody>\n",
              "    <tr>\n",
              "      <th>0</th>\n",
              "      <td>265.1</td>\n",
              "      <td>45.07</td>\n",
              "      <td>1</td>\n",
              "      <td>197.4</td>\n",
              "      <td>0</td>\n",
              "      <td>0</td>\n",
              "    </tr>\n",
              "    <tr>\n",
              "      <th>1</th>\n",
              "      <td>161.6</td>\n",
              "      <td>27.47</td>\n",
              "      <td>1</td>\n",
              "      <td>195.5</td>\n",
              "      <td>0</td>\n",
              "      <td>0</td>\n",
              "    </tr>\n",
              "    <tr>\n",
              "      <th>2</th>\n",
              "      <td>243.4</td>\n",
              "      <td>41.38</td>\n",
              "      <td>0</td>\n",
              "      <td>121.2</td>\n",
              "      <td>0</td>\n",
              "      <td>0</td>\n",
              "    </tr>\n",
              "    <tr>\n",
              "      <th>3</th>\n",
              "      <td>299.4</td>\n",
              "      <td>50.90</td>\n",
              "      <td>2</td>\n",
              "      <td>61.9</td>\n",
              "      <td>1</td>\n",
              "      <td>0</td>\n",
              "    </tr>\n",
              "    <tr>\n",
              "      <th>4</th>\n",
              "      <td>166.7</td>\n",
              "      <td>28.34</td>\n",
              "      <td>3</td>\n",
              "      <td>148.3</td>\n",
              "      <td>1</td>\n",
              "      <td>0</td>\n",
              "    </tr>\n",
              "  </tbody>\n",
              "</table>\n",
              "</div>"
            ],
            "text/plain": [
              "   total_day_minutes  total_day_charge  ...  international_plan  class\n",
              "0              265.1             45.07  ...                   0      0\n",
              "1              161.6             27.47  ...                   0      0\n",
              "2              243.4             41.38  ...                   0      0\n",
              "3              299.4             50.90  ...                   1      0\n",
              "4              166.7             28.34  ...                   1      0\n",
              "\n",
              "[5 rows x 6 columns]"
            ]
          },
          "metadata": {
            "tags": []
          },
          "execution_count": 174
        }
      ]
    },
    {
      "cell_type": "code",
      "metadata": {
        "id": "Y0lbCaOXwN1p",
        "colab_type": "code",
        "colab": {}
      },
      "source": [
        "target = dataset[['class']].values.ravel()"
      ],
      "execution_count": null,
      "outputs": []
    },
    {
      "cell_type": "code",
      "metadata": {
        "id": "M6w5q8jtxNtf",
        "colab_type": "code",
        "colab": {}
      },
      "source": [
        "features = dataset[['total_day_minutes', 'total_day_charge', 'number_customer_service_calls', 'total_eve_minutes', 'international_plan']]"
      ],
      "execution_count": null,
      "outputs": []
    },
    {
      "cell_type": "code",
      "metadata": {
        "id": "36Acqpeo6EUZ",
        "colab_type": "code",
        "colab": {}
      },
      "source": [
        "logistic_regression(features, target)"
      ],
      "execution_count": null,
      "outputs": []
    },
    {
      "cell_type": "code",
      "metadata": {
        "id": "WtLTdPhfyZOB",
        "colab_type": "code",
        "colab": {
          "base_uri": "https://localhost:8080/",
          "height": 51
        },
        "outputId": "6866e11d-7973-40bb-97c0-a8ba4dee7e1d"
      },
      "source": [
        "data = np.array([166.7, 28.34, 3,\t18.3, 1])\n",
        "data.resize(1,5)\n",
        "print(f'Prediction on values {data} is {predict(data)[0]}')\n",
        "print(f'Accuracy: {accuracy(data, [0])}')"
      ],
      "execution_count": null,
      "outputs": [
        {
          "output_type": "stream",
          "text": [
            "Prediction on values [[166.7   28.34   3.    18.3    1.  ]] is 0\n",
            "Accuracy: 1.0\n"
          ],
          "name": "stdout"
        }
      ]
    }
  ]
}