{
  "nbformat": 4,
  "nbformat_minor": 0,
  "metadata": {
    "colab": {
      "name": "k-means",
      "provenance": [],
      "authorship_tag": "ABX9TyMP5QRsdhK9gJWk5vdOnCvB",
      "include_colab_link": true
    },
    "kernelspec": {
      "name": "python3",
      "display_name": "Python 3"
    }
  },
  "cells": [
    {
      "cell_type": "markdown",
      "metadata": {
        "id": "view-in-github",
        "colab_type": "text"
      },
      "source": [
        "<a href=\"https://colab.research.google.com/github/alpeshyadav/Internship/blob/master/k_means.ipynb\" target=\"_parent\"><img src=\"https://colab.research.google.com/assets/colab-badge.svg\" alt=\"Open In Colab\"/></a>"
      ]
    },
    {
      "cell_type": "code",
      "metadata": {
        "id": "yg_zqUzXT-9X",
        "colab_type": "code",
        "colab": {}
      },
      "source": [
        "import pandas as pd\n",
        "import seaborn as sns\n",
        "from sklearn.cluster import KMeans\n",
        "import numpy as np\n",
        "import matplotlib.pyplot as plt\n",
        "from sklearn.model_selection import train_test_split"
      ],
      "execution_count": 63,
      "outputs": []
    },
    {
      "cell_type": "code",
      "metadata": {
        "id": "majrJNPPkgfN",
        "colab_type": "code",
        "colab": {}
      },
      "source": [
        "# Mall_Customers datasets "
      ],
      "execution_count": 2,
      "outputs": []
    },
    {
      "cell_type": "code",
      "metadata": {
        "id": "PAruV-eComWA",
        "colab_type": "code",
        "colab": {}
      },
      "source": [
        "kmeans = None\n",
        "k = 0"
      ],
      "execution_count": 3,
      "outputs": []
    },
    {
      "cell_type": "code",
      "metadata": {
        "id": "tDBZFmIcpM9f",
        "colab_type": "code",
        "colab": {}
      },
      "source": [
        "def split_dataset(X):\n",
        "  return train_test_split(X, test_size=0.33, random_state=42)\n"
      ],
      "execution_count": 4,
      "outputs": []
    },
    {
      "cell_type": "code",
      "metadata": {
        "id": "gh3eTRXxkciP",
        "colab_type": "code",
        "colab": {}
      },
      "source": [
        "def k_means(X):\n",
        "  global kmeans\n",
        "  global k\n",
        "  wcss = []\n",
        "  for i in range(1, 11):\n",
        "    kmeans = KMeans(n_clusters = i).fit(X)\n",
        "    wcss.append(kmeans.inertia_)  \n",
        "  distances = []\n",
        " \n",
        "  x1, y1 = (1, wcss[0])\n",
        "  x2, y2 = (10, wcss[9])\n",
        "  norm = np.linalg.norm\n",
        "  for i in range(0,10):\n",
        "    x0, y0 = (i+1, wcss[i])\n",
        "    d = np.abs((y2-y1)*x0 - (x2-x1)*y0 + x2*y1 - y2*x1) / np.sqrt(np.square(y2-y1) + np.square(x2-x1))\n",
        "    distances.append([d, i+1])\n",
        "\n",
        "  _max = max(distances)\n",
        "  k = _max[1]\n",
        "  print(f'The most suitable value of k is {_max[1]}')\n",
        "  kmeans = KMeans(n_clusters=k, random_state=0).fit(X)\n"
      ],
      "execution_count": 58,
      "outputs": []
    },
    {
      "cell_type": "code",
      "metadata": {
        "id": "YGx7y0N37aUp",
        "colab_type": "code",
        "colab": {}
      },
      "source": [
        "def graphical_method_to_find_k(X):\n",
        "  clusters = []\n",
        "\n",
        "  for i in range(1, 11):\n",
        "      km = KMeans(n_clusters=i).fit(X)\n",
        "      clusters.append(km.inertia_)\n",
        "      \n",
        "  plt.figure()\n",
        "  fig, ax = plt.subplots(figsize=(12, 8))\n",
        "  sns.lineplot(x=list(range(1, 11)), y=clusters, ax=ax)\n",
        "  ax.set_title('Searching for Elbow')\n",
        "  ax.set_xlabel('Clusters')\n",
        "  ax.set_ylabel('Inertia')"
      ],
      "execution_count": 47,
      "outputs": []
    },
    {
      "cell_type": "code",
      "metadata": {
        "id": "zZajIk-D-0LV",
        "colab_type": "code",
        "colab": {}
      },
      "source": [
        "def predict(test):\n",
        "  global kmeans\n",
        "  return kmeans.predict(test)"
      ],
      "execution_count": 52,
      "outputs": []
    },
    {
      "cell_type": "code",
      "metadata": {
        "id": "LEWzf6vOGlye",
        "colab_type": "code",
        "colab": {}
      },
      "source": [
        "def visualize(train):\n",
        "  global kmeans\n",
        "  global k\n",
        "  train['Labels'] = kmeans.labels_\n",
        "  plt.figure()\n",
        "  sns.scatterplot(train['Annual Income (k$)'], train['Spending Score (1-100)'], hue=train['Labels'], palette=sns.color_palette('hls', k))"
      ],
      "execution_count": 49,
      "outputs": []
    },
    {
      "cell_type": "code",
      "metadata": {
        "id": "ckJaXqCGrNmb",
        "colab_type": "code",
        "colab": {
          "base_uri": "https://localhost:8080/",
          "height": 204
        },
        "outputId": "665bb4d5-4f3a-4e7c-c491-003ed229d2d2"
      },
      "source": [
        "dataset = pd.read_csv('./Mall_Customers.csv')\n",
        "dataset.drop(['CustomerID', 'Gender'], axis=1, inplace=True)\n",
        "train, test = split_dataset(dataset)\n",
        "train.head()"
      ],
      "execution_count": 54,
      "outputs": [
        {
          "output_type": "execute_result",
          "data": {
            "text/html": [
              "<div>\n",
              "<style scoped>\n",
              "    .dataframe tbody tr th:only-of-type {\n",
              "        vertical-align: middle;\n",
              "    }\n",
              "\n",
              "    .dataframe tbody tr th {\n",
              "        vertical-align: top;\n",
              "    }\n",
              "\n",
              "    .dataframe thead th {\n",
              "        text-align: right;\n",
              "    }\n",
              "</style>\n",
              "<table border=\"1\" class=\"dataframe\">\n",
              "  <thead>\n",
              "    <tr style=\"text-align: right;\">\n",
              "      <th></th>\n",
              "      <th>Age</th>\n",
              "      <th>Annual Income (k$)</th>\n",
              "      <th>Spending Score (1-100)</th>\n",
              "    </tr>\n",
              "  </thead>\n",
              "  <tbody>\n",
              "    <tr>\n",
              "      <th>42</th>\n",
              "      <td>48</td>\n",
              "      <td>39</td>\n",
              "      <td>36</td>\n",
              "    </tr>\n",
              "    <tr>\n",
              "      <th>189</th>\n",
              "      <td>36</td>\n",
              "      <td>103</td>\n",
              "      <td>85</td>\n",
              "    </tr>\n",
              "    <tr>\n",
              "      <th>90</th>\n",
              "      <td>68</td>\n",
              "      <td>59</td>\n",
              "      <td>55</td>\n",
              "    </tr>\n",
              "    <tr>\n",
              "      <th>136</th>\n",
              "      <td>44</td>\n",
              "      <td>73</td>\n",
              "      <td>7</td>\n",
              "    </tr>\n",
              "    <tr>\n",
              "      <th>51</th>\n",
              "      <td>33</td>\n",
              "      <td>42</td>\n",
              "      <td>60</td>\n",
              "    </tr>\n",
              "  </tbody>\n",
              "</table>\n",
              "</div>"
            ],
            "text/plain": [
              "     Age  Annual Income (k$)  Spending Score (1-100)\n",
              "42    48                  39                      36\n",
              "189   36                 103                      85\n",
              "90    68                  59                      55\n",
              "136   44                  73                       7\n",
              "51    33                  42                      60"
            ]
          },
          "metadata": {
            "tags": []
          },
          "execution_count": 54
        }
      ]
    },
    {
      "cell_type": "code",
      "metadata": {
        "id": "KmcR221RRUX8",
        "colab_type": "code",
        "colab": {
          "base_uri": "https://localhost:8080/",
          "height": 34
        },
        "outputId": "d4929e85-8e36-4b91-9c9f-32c3e915b991"
      },
      "source": [
        "k_means(train)\n"
      ],
      "execution_count": 59,
      "outputs": [
        {
          "output_type": "stream",
          "text": [
            "The most suitable value of k is 4\n"
          ],
          "name": "stdout"
        }
      ]
    },
    {
      "cell_type": "code",
      "metadata": {
        "id": "cZQdt3g0_2Ez",
        "colab_type": "code",
        "colab": {
          "base_uri": "https://localhost:8080/",
          "height": 530
        },
        "outputId": "be2daf57-a144-44d0-e0da-c901e78f9ffc"
      },
      "source": [
        "#manually with the help of graph we can come up with the most suitable value of k\n",
        "\n",
        "graphical_method_to_find_k(train)"
      ],
      "execution_count": 60,
      "outputs": [
        {
          "output_type": "display_data",
          "data": {
            "text/plain": [
              "<Figure size 432x288 with 0 Axes>"
            ]
          },
          "metadata": {
            "tags": []
          }
        },
        {
          "output_type": "display_data",
          "data": {
            "image/png": "[encoded data removed]",
            "text/plain": [
              "<Figure size 864x576 with 1 Axes>"
            ]
          },
          "metadata": {
            "tags": [],
            "needs_background": "light"
          }
        }
      ]
    },
    {
      "cell_type": "code",
      "metadata": {
        "id": "ftVdP48wAE8T",
        "colab_type": "code",
        "colab": {
          "base_uri": "https://localhost:8080/",
          "height": 381
        },
        "outputId": "f6aa53cc-d359-460f-a50f-39962c4486a3"
      },
      "source": [
        "#visulization is done on the value of k obtained mathematically \n",
        "\n",
        "visualize(train)"
      ],
      "execution_count": 61,
      "outputs": [
        {
          "output_type": "stream",
          "text": [
            "/usr/local/lib/python3.6/dist-packages/ipykernel_launcher.py:4: SettingWithCopyWarning: \n",
            "A value is trying to be set on a copy of a slice from a DataFrame.\n",
            "Try using .loc[row_indexer,col_indexer] = value instead\n",
            "\n",
            "See the caveats in the documentation: https://pandas.pydata.org/pandas-docs/stable/user_guide/indexing.html#returning-a-view-versus-a-copy\n",
            "  after removing the cwd from sys.path.\n"
          ],
          "name": "stderr"
        },
        {
          "output_type": "display_data",
          "data": {
            "image/png": "[encoded data removed]",
            "text/plain": [
              "<Figure size 432x288 with 1 Axes>"
            ]
          },
          "metadata": {
            "tags": [],
            "needs_background": "light"
          }
        }
      ]
    },
    {
      "cell_type": "code",
      "metadata": {
        "id": "SQbwg4eGAQF8",
        "colab_type": "code",
        "colab": {
          "base_uri": "https://localhost:8080/",
          "height": 85
        },
        "outputId": "41acc06c-5919-4c24-e387-53a4bb48bf55"
      },
      "source": [
        "predict(test)"
      ],
      "execution_count": 62,
      "outputs": [
        {
          "output_type": "execute_result",
          "data": {
            "text/plain": [
              "array([0, 2, 0, 3, 3, 0, 0, 3, 3, 2, 0, 3, 1, 0, 3, 1, 0, 3, 0, 2, 3, 0,\n",
              "       3, 0, 2, 0, 0, 0, 1, 3, 2, 0, 0, 0, 3, 0, 1, 1, 3, 0, 0, 1, 0, 0,\n",
              "       0, 1, 2, 2, 1, 0, 0, 1, 2, 0, 0, 0, 3, 0, 3, 0, 1, 0, 2, 0, 2, 0],\n",
              "      dtype=int32)"
            ]
          },
          "metadata": {
            "tags": []
          },
          "execution_count": 62
        }
      ]
    }
  ]
}