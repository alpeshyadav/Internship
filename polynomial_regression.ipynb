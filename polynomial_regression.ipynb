{
  "nbformat": 4,
  "nbformat_minor": 0,
  "metadata": {
    "colab": {
      "name": "polynomial_regression.ipynb",
      "provenance": [],
      "collapsed_sections": [],
      "authorship_tag": "ABX9TyMXb07dmAUIWKRJotjAETun",
      "include_colab_link": true
    },
    "kernelspec": {
      "name": "python3",
      "display_name": "Python 3"
    }
  },
  "cells": [
    {
      "cell_type": "markdown",
      "metadata": {
        "id": "view-in-github",
        "colab_type": "text"
      },
      "source": [
        "<a href=\"https://colab.research.google.com/github/alpeshyadav/Internship/blob/master/polynomial_regression.ipynb\" target=\"_parent\"><img src=\"https://colab.research.google.com/assets/colab-badge.svg\" alt=\"Open In Colab\"/></a>"
      ]
    },
    {
      "cell_type": "code",
      "metadata": {
        "id": "4YgdJeMLYsTs",
        "colab_type": "code",
        "colab": {}
      },
      "source": [
        "import numpy as np\n",
        "import pandas as pd\n",
        "import pickle\n",
        "import math\n",
        "from sklearn.model_selection import train_test_split\n",
        "from sklearn.linear_model import LinearRegression\n",
        "from sklearn.preprocessing import PolynomialFeatures\n",
        "from sklearn.metrics import r2_score\n",
        "import matplotlib.pyplot as plt\n"
      ],
      "execution_count": 13,
      "outputs": []
    },
    {
      "cell_type": "code",
      "metadata": {
        "id": "0TyX3lNuwpJ4",
        "colab_type": "code",
        "colab": {}
      },
      "source": [
        "def linear_regression(X, y, seed=None):\n",
        "  with open('./sample_data/ouputfile', 'wb') as f:\n",
        "    poly = PolynomialFeatures(degree = 2) \n",
        "    X_poly = poly.fit_transform(X) \n",
        "    poly.fit(X_poly, y) \n",
        "    pickle.dump(LinearRegression().fit(X_poly, y), f)"
      ],
      "execution_count": 14,
      "outputs": []
    },
    {
      "cell_type": "code",
      "metadata": {
        "id": "SRQ25zauywrK",
        "colab_type": "code",
        "colab": {}
      },
      "source": [
        "def predict(data):\n",
        "  with open('./sample_data/ouputfile', 'rb') as f:\n",
        "    linear_regression = pickle.load(f)\n",
        "    poly = PolynomialFeatures(degree = 2) \n",
        "  return linear_regression.predict(poly.fit_transform(data))"
      ],
      "execution_count": 15,
      "outputs": []
    },
    {
      "cell_type": "code",
      "metadata": {
        "id": "MdX_jfSP2q71",
        "colab_type": "code",
        "colab": {}
      },
      "source": [
        "def accuracy(y1, y2):\n",
        "  return r2_score(y1, y2)\n",
        " "
      ],
      "execution_count": 16,
      "outputs": []
    },
    {
      "cell_type": "code",
      "metadata": {
        "id": "ve3SWWmAwsBo",
        "colab_type": "code",
        "colab": {}
      },
      "source": [
        "dataset = pd.read_csv('./sample_data/cruise_ship_info.csv')"
      ],
      "execution_count": 17,
      "outputs": []
    },
    {
      "cell_type": "code",
      "metadata": {
        "id": "HPYubyd8CqAn",
        "colab_type": "code",
        "colab": {
          "base_uri": "https://localhost:8080/",
          "height": 359
        },
        "outputId": "365a4114-64a9-4762-b21f-03ed3de58690"
      },
      "source": [
        "dataset.head(10)"
      ],
      "execution_count": 18,
      "outputs": [
        {
          "output_type": "execute_result",
          "data": {
            "text/html": [
              "<div>\n",
              "<style scoped>\n",
              "    .dataframe tbody tr th:only-of-type {\n",
              "        vertical-align: middle;\n",
              "    }\n",
              "\n",
              "    .dataframe tbody tr th {\n",
              "        vertical-align: top;\n",
              "    }\n",
              "\n",
              "    .dataframe thead th {\n",
              "        text-align: right;\n",
              "    }\n",
              "</style>\n",
              "<table border=\"1\" class=\"dataframe\">\n",
              "  <thead>\n",
              "    <tr style=\"text-align: right;\">\n",
              "      <th></th>\n",
              "      <th>Ship_name</th>\n",
              "      <th>Cruise_line</th>\n",
              "      <th>Age</th>\n",
              "      <th>Tonnage</th>\n",
              "      <th>passengers</th>\n",
              "      <th>length</th>\n",
              "      <th>cabins</th>\n",
              "      <th>passenger_density</th>\n",
              "      <th>crew</th>\n",
              "    </tr>\n",
              "  </thead>\n",
              "  <tbody>\n",
              "    <tr>\n",
              "      <th>0</th>\n",
              "      <td>Journey</td>\n",
              "      <td>Azamara</td>\n",
              "      <td>6</td>\n",
              "      <td>30.277</td>\n",
              "      <td>6.94</td>\n",
              "      <td>5.94</td>\n",
              "      <td>3.55</td>\n",
              "      <td>42.64</td>\n",
              "      <td>3.55</td>\n",
              "    </tr>\n",
              "    <tr>\n",
              "      <th>1</th>\n",
              "      <td>Quest</td>\n",
              "      <td>Azamara</td>\n",
              "      <td>6</td>\n",
              "      <td>30.277</td>\n",
              "      <td>6.94</td>\n",
              "      <td>5.94</td>\n",
              "      <td>3.55</td>\n",
              "      <td>42.64</td>\n",
              "      <td>3.55</td>\n",
              "    </tr>\n",
              "    <tr>\n",
              "      <th>2</th>\n",
              "      <td>Celebration</td>\n",
              "      <td>Carnival</td>\n",
              "      <td>26</td>\n",
              "      <td>47.262</td>\n",
              "      <td>14.86</td>\n",
              "      <td>7.22</td>\n",
              "      <td>7.43</td>\n",
              "      <td>31.80</td>\n",
              "      <td>6.70</td>\n",
              "    </tr>\n",
              "    <tr>\n",
              "      <th>3</th>\n",
              "      <td>Conquest</td>\n",
              "      <td>Carnival</td>\n",
              "      <td>11</td>\n",
              "      <td>110.000</td>\n",
              "      <td>29.74</td>\n",
              "      <td>9.53</td>\n",
              "      <td>14.88</td>\n",
              "      <td>36.99</td>\n",
              "      <td>19.10</td>\n",
              "    </tr>\n",
              "    <tr>\n",
              "      <th>4</th>\n",
              "      <td>Destiny</td>\n",
              "      <td>Carnival</td>\n",
              "      <td>17</td>\n",
              "      <td>101.353</td>\n",
              "      <td>26.42</td>\n",
              "      <td>8.92</td>\n",
              "      <td>13.21</td>\n",
              "      <td>38.36</td>\n",
              "      <td>10.00</td>\n",
              "    </tr>\n",
              "    <tr>\n",
              "      <th>5</th>\n",
              "      <td>Ecstasy</td>\n",
              "      <td>Carnival</td>\n",
              "      <td>22</td>\n",
              "      <td>70.367</td>\n",
              "      <td>20.52</td>\n",
              "      <td>8.55</td>\n",
              "      <td>10.20</td>\n",
              "      <td>34.29</td>\n",
              "      <td>9.20</td>\n",
              "    </tr>\n",
              "    <tr>\n",
              "      <th>6</th>\n",
              "      <td>Elation</td>\n",
              "      <td>Carnival</td>\n",
              "      <td>15</td>\n",
              "      <td>70.367</td>\n",
              "      <td>20.52</td>\n",
              "      <td>8.55</td>\n",
              "      <td>10.20</td>\n",
              "      <td>34.29</td>\n",
              "      <td>9.20</td>\n",
              "    </tr>\n",
              "    <tr>\n",
              "      <th>7</th>\n",
              "      <td>Fantasy</td>\n",
              "      <td>Carnival</td>\n",
              "      <td>23</td>\n",
              "      <td>70.367</td>\n",
              "      <td>20.56</td>\n",
              "      <td>8.55</td>\n",
              "      <td>10.22</td>\n",
              "      <td>34.23</td>\n",
              "      <td>9.20</td>\n",
              "    </tr>\n",
              "    <tr>\n",
              "      <th>8</th>\n",
              "      <td>Fascination</td>\n",
              "      <td>Carnival</td>\n",
              "      <td>19</td>\n",
              "      <td>70.367</td>\n",
              "      <td>20.52</td>\n",
              "      <td>8.55</td>\n",
              "      <td>10.20</td>\n",
              "      <td>34.29</td>\n",
              "      <td>9.20</td>\n",
              "    </tr>\n",
              "    <tr>\n",
              "      <th>9</th>\n",
              "      <td>Freedom</td>\n",
              "      <td>Carnival</td>\n",
              "      <td>6</td>\n",
              "      <td>110.239</td>\n",
              "      <td>37.00</td>\n",
              "      <td>9.51</td>\n",
              "      <td>14.87</td>\n",
              "      <td>29.79</td>\n",
              "      <td>11.50</td>\n",
              "    </tr>\n",
              "  </tbody>\n",
              "</table>\n",
              "</div>"
            ],
            "text/plain": [
              "     Ship_name Cruise_line  Age  ...  cabins  passenger_density   crew\n",
              "0      Journey     Azamara    6  ...    3.55              42.64   3.55\n",
              "1        Quest     Azamara    6  ...    3.55              42.64   3.55\n",
              "2  Celebration    Carnival   26  ...    7.43              31.80   6.70\n",
              "3     Conquest    Carnival   11  ...   14.88              36.99  19.10\n",
              "4      Destiny    Carnival   17  ...   13.21              38.36  10.00\n",
              "5      Ecstasy    Carnival   22  ...   10.20              34.29   9.20\n",
              "6      Elation    Carnival   15  ...   10.20              34.29   9.20\n",
              "7      Fantasy    Carnival   23  ...   10.22              34.23   9.20\n",
              "8  Fascination    Carnival   19  ...   10.20              34.29   9.20\n",
              "9      Freedom    Carnival    6  ...   14.87              29.79  11.50\n",
              "\n",
              "[10 rows x 9 columns]"
            ]
          },
          "metadata": {
            "tags": []
          },
          "execution_count": 18
        }
      ]
    },
    {
      "cell_type": "code",
      "metadata": {
        "id": "xPFNkslfEVCQ",
        "colab_type": "code",
        "colab": {}
      },
      "source": [
        "features = dataset[['Tonnage', 'passengers', 'length', 'cabins']]"
      ],
      "execution_count": 19,
      "outputs": []
    },
    {
      "cell_type": "code",
      "metadata": {
        "id": "jptW8T4FOGOV",
        "colab_type": "code",
        "colab": {
          "base_uri": "https://localhost:8080/",
          "height": 204
        },
        "outputId": "37d270f3-93ff-4436-8639-487ee451a98e"
      },
      "source": [
        "features.head()"
      ],
      "execution_count": 20,
      "outputs": [
        {
          "output_type": "execute_result",
          "data": {
            "text/html": [
              "<div>\n",
              "<style scoped>\n",
              "    .dataframe tbody tr th:only-of-type {\n",
              "        vertical-align: middle;\n",
              "    }\n",
              "\n",
              "    .dataframe tbody tr th {\n",
              "        vertical-align: top;\n",
              "    }\n",
              "\n",
              "    .dataframe thead th {\n",
              "        text-align: right;\n",
              "    }\n",
              "</style>\n",
              "<table border=\"1\" class=\"dataframe\">\n",
              "  <thead>\n",
              "    <tr style=\"text-align: right;\">\n",
              "      <th></th>\n",
              "      <th>Tonnage</th>\n",
              "      <th>passengers</th>\n",
              "      <th>length</th>\n",
              "      <th>cabins</th>\n",
              "    </tr>\n",
              "  </thead>\n",
              "  <tbody>\n",
              "    <tr>\n",
              "      <th>0</th>\n",
              "      <td>30.277</td>\n",
              "      <td>6.94</td>\n",
              "      <td>5.94</td>\n",
              "      <td>3.55</td>\n",
              "    </tr>\n",
              "    <tr>\n",
              "      <th>1</th>\n",
              "      <td>30.277</td>\n",
              "      <td>6.94</td>\n",
              "      <td>5.94</td>\n",
              "      <td>3.55</td>\n",
              "    </tr>\n",
              "    <tr>\n",
              "      <th>2</th>\n",
              "      <td>47.262</td>\n",
              "      <td>14.86</td>\n",
              "      <td>7.22</td>\n",
              "      <td>7.43</td>\n",
              "    </tr>\n",
              "    <tr>\n",
              "      <th>3</th>\n",
              "      <td>110.000</td>\n",
              "      <td>29.74</td>\n",
              "      <td>9.53</td>\n",
              "      <td>14.88</td>\n",
              "    </tr>\n",
              "    <tr>\n",
              "      <th>4</th>\n",
              "      <td>101.353</td>\n",
              "      <td>26.42</td>\n",
              "      <td>8.92</td>\n",
              "      <td>13.21</td>\n",
              "    </tr>\n",
              "  </tbody>\n",
              "</table>\n",
              "</div>"
            ],
            "text/plain": [
              "   Tonnage  passengers  length  cabins\n",
              "0   30.277        6.94    5.94    3.55\n",
              "1   30.277        6.94    5.94    3.55\n",
              "2   47.262       14.86    7.22    7.43\n",
              "3  110.000       29.74    9.53   14.88\n",
              "4  101.353       26.42    8.92   13.21"
            ]
          },
          "metadata": {
            "tags": []
          },
          "execution_count": 20
        }
      ]
    },
    {
      "cell_type": "code",
      "metadata": {
        "id": "Y0lbCaOXwN1p",
        "colab_type": "code",
        "colab": {}
      },
      "source": [
        "target = dataset[['crew']].values.ravel()\n"
      ],
      "execution_count": 21,
      "outputs": []
    },
    {
      "cell_type": "code",
      "metadata": {
        "id": "0yS6mepPKnJm",
        "colab_type": "code",
        "colab": {}
      },
      "source": [
        " X_train, X_test, y_train, y_test = train_test_split(features, target, test_size=0.33, random_state=42)"
      ],
      "execution_count": 22,
      "outputs": []
    },
    {
      "cell_type": "code",
      "metadata": {
        "id": "36Acqpeo6EUZ",
        "colab_type": "code",
        "colab": {}
      },
      "source": [
        "linear_regression(X_train, y_train)"
      ],
      "execution_count": 23,
      "outputs": []
    },
    {
      "cell_type": "code",
      "metadata": {
        "id": "WtLTdPhfyZOB",
        "colab_type": "code",
        "colab": {
          "base_uri": "https://localhost:8080/",
          "height": 34
        },
        "outputId": "5d45e8b5-2b74-4f9c-cc51-0ccbcdfda973"
      },
      "source": [
        "predicted_values = predict(X_test)\n",
        "accuracy(y_test, predicted_values)"
      ],
      "execution_count": 24,
      "outputs": [
        {
          "output_type": "execute_result",
          "data": {
            "text/plain": [
              "0.7714178850228017"
            ]
          },
          "metadata": {
            "tags": []
          },
          "execution_count": 24
        }
      ]
    }
  ]
}